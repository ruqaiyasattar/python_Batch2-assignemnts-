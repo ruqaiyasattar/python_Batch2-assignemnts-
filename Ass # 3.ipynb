{
 "cells": [
  {
   "cell_type": "code",
   "execution_count": 5,
   "metadata": {
    "scrolled": true
   },
   "outputs": [
    {
     "name": "stdout",
     "output_type": "stream",
     "text": [
      "Enter number 1: -> 4\n",
      "Enter number 2: -> 6\n",
      "What operation you want to perform on these values?  \n",
      "-For Addition type +\n",
      "-For Subtraction type -\n",
      "-For Multiplication type *\n",
      "-For Division type /\n",
      "-For Power type **\n",
      "/\n",
      "On apply Division -> 0.6666666666666666\n"
     ]
    }
   ],
   "source": [
    "'''\n",
    "1. Make a calculator using Python with addition , subtraction , multiplication ,\n",
    "division and power.\n",
    "'''\n",
    "\n",
    "num1 = int(input(\"Enter number 1: -> \"))\n",
    "num2 = int(input(\"Enter number 2: -> \"))\n",
    "operation = input(\"What operation you want to perform on these values?  \\n-For Addition type +\\n-For Subtraction type -\\n-For Multiplication type *\\n-For Division type /\\n-For Power type **\\n\")\n",
    "if operation == \"+\":\n",
    "    add = num1+num2\n",
    "    print(\"On apply Addition -> \" + int(add))\n",
    "elif operation == \"-\":\n",
    "    sub = num1-num2\n",
    "    print(\"On apply Subtraction -> \" + int(sub))\n",
    "elif operation == \"*\":\n",
    "    mul = num1*num2\n",
    "    print(\"On apply Multiplication -> \" + int(mul))\n",
    "elif operation == \"/\":\n",
    "    div = num1/num2\n",
    "    print(\"On apply Division -> \" + str(div))    \n",
    "elif operation == \"**\":\n",
    "    power = pow(num1,num2)\n",
    "    print(\"On apply Subtraction -> \" + str(power))    \n",
    "else:\n",
    "    print(\"Wrong Operator\")"
   ]
  },
  {
   "cell_type": "code",
   "execution_count": 6,
   "metadata": {},
   "outputs": [
    {
     "name": "stdout",
     "output_type": "stream",
     "text": [
      "4 exist in list of numbers\n"
     ]
    }
   ],
   "source": [
    "'''\n",
    "2.Write a program to check if there is any numeric value in list using for loop\n",
    "'''\n",
    "number = [1,2,3,4,5,6]\n",
    "for i in number:\n",
    "    if(i == 4):\n",
    "        print(\"4 exist in list of numbers\")"
   ]
  },
  {
   "cell_type": "code",
   "execution_count": 8,
   "metadata": {},
   "outputs": [
    {
     "name": "stdout",
     "output_type": "stream",
     "text": [
      "before update {1: 'a', 2: 'l', 3: 'p', 4: 'h', 5: 'a', 6: 'b', 7: 'e', 8: 't'}\n",
      "after update {1: 'a', 2: 'l', 3: 'p', 4: 'h', 5: 'a', 6: 'b', 7: 'e', 8: 't', 9: 's'}\n"
     ]
    }
   ],
   "source": [
    "'''\n",
    "3. Write a Python script to add a key to a dictionary\n",
    "'''\n",
    "alphabets = {}\n",
    "alphabets[1]='a'\n",
    "alphabets[2]='l'\n",
    "alphabets[3]='p'\n",
    "alphabets[4]='h'\n",
    "alphabets[5]='a'\n",
    "alphabets[6]='b'\n",
    "alphabets[7]='e'\n",
    "alphabets[8]='t'\n",
    "print(\"before update \"+str(alphabets))\n",
    "alphabets.update({9:\"s\"})  \n",
    "print(\"after update \"+str(alphabets))\n"
   ]
  },
  {
   "cell_type": "code",
   "execution_count": 9,
   "metadata": {},
   "outputs": [
    {
     "name": "stdout",
     "output_type": "stream",
     "text": [
      "23\n"
     ]
    }
   ],
   "source": [
    "'''\n",
    "4. Write a Python program to sum all the numeric items in a dictionary\n",
    "'''\n",
    "mynum = {\"one\":3,\"two\":2,\"three\":9,\"four\":4,\"five\":5}\n",
    "sum = 0\n",
    "for i in mynum.values():\n",
    "    sum = sum+i\n",
    "    \n",
    "print(sum)\n",
    "\n"
   ]
  },
  {
   "cell_type": "code",
   "execution_count": 10,
   "metadata": {},
   "outputs": [
    {
     "name": "stdout",
     "output_type": "stream",
     "text": [
      "[0, 1, 2, 3, 4, 4, 4, 4, 5, 8, 8, 8, 75]\n",
      "[0, 1, 2, 3, 4, 5, 8, 75]\n",
      "[4, 8]\n"
     ]
    }
   ],
   "source": [
    "'''\n",
    "5. Write a program to identify duplicate values from list\n",
    "'''\n",
    "duplicate = [1,8,8,8,2,4,4,4,4,0,3,75,5]\n",
    "duplicate.sort()\n",
    "print(duplicate)\n",
    "\n",
    "dupli=sorted(set(duplicate))\n",
    "print(dupli)\n",
    "\n",
    "mylist = []\n",
    "for i in range(len(dupli)):\n",
    "    if (duplicate.count(dupli[i]) > 1):\n",
    "        mylist.append(dupli[i])\n",
    "print(mylist)\n"
   ]
  },
  {
   "cell_type": "code",
   "execution_count": 11,
   "metadata": {},
   "outputs": [
    {
     "name": "stdout",
     "output_type": "stream",
     "text": [
      "give key to check : 3\n",
      "3 exist in list of numbers\n"
     ]
    }
   ],
   "source": [
    "'''\n",
    "6.Write a Python script to check if a given key already exists in a dictionary\n",
    "'''\n",
    "number = {1:\"1\",2:\"3\",3:\"3\",4:\"e\",5:\"t\"}\n",
    "key= int(input(\"give key to check : \"))\n",
    "for i in number.keys():\n",
    "    if(key == i):\n",
    "        print(str(key) +\" exist in list of numbers\")\n"
   ]
  },
  {
   "cell_type": "code",
   "execution_count": null,
   "metadata": {},
   "outputs": [],
   "source": []
  }
 ],
 "metadata": {
  "kernelspec": {
   "display_name": "Python 3",
   "language": "python",
   "name": "python3"
  },
  "language_info": {
   "codemirror_mode": {
    "name": "ipython",
    "version": 3
   },
   "file_extension": ".py",
   "mimetype": "text/x-python",
   "name": "python",
   "nbconvert_exporter": "python",
   "pygments_lexer": "ipython3",
   "version": "3.7.4"
  }
 },
 "nbformat": 4,
 "nbformat_minor": 2
}
