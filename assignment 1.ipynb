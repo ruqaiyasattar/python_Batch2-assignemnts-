{
 "cells": [
  {
   "cell_type": "code",
   "execution_count": 4,
   "metadata": {},
   "outputs": [
    {
     "name": "stdout",
     "output_type": "stream",
     "text": [
      "Python version ->3.7.4 (default, Aug  9 2019, 18:34:13) [MSC v.1915 64 bit (AMD64)]\n",
      "Version info ->sys.version_info(major=3, minor=7, micro=4, releaselevel='final', serial=0)\n"
     ]
    }
   ],
   "source": [
    "'''\n",
    "Ruqaiya \n",
    "SMIT/19/PY/B2/03898\n",
    "PY03898\n",
    "ruqaiya.sattar345@gmail.com\n",
    "python assign # 1\n",
    "2.Write a Python program to get the Python version you are using\n",
    "'''\n",
    "import sys\n",
    "print(\"Python version ->\"+ sys.version)\n",
    "print(\"Version info ->\" + str(sys.version_info))"
   ]
  },
  {
   "cell_type": "code",
   "execution_count": 7,
   "metadata": {},
   "outputs": [
    {
     "name": "stdout",
     "output_type": "stream",
     "text": [
      "Current date and time -> 2019-10-31 00:44:36.667657\n"
     ]
    }
   ],
   "source": [
    "'''\n",
    "3. Write a Python program to display the current date and time.\n",
    "'''\n",
    "\n",
    "import datetime\n",
    "time = datetime.datetime.now()\n",
    "print(\"Current date and time -> \" +str(time))"
   ]
  },
  {
   "cell_type": "code",
   "execution_count": 10,
   "metadata": {},
   "outputs": [
    {
     "name": "stdout",
     "output_type": "stream",
     "text": [
      "Enter Radius of Circle: 2.4\n",
      " Area of Circle is 18.09557368467721\n"
     ]
    }
   ],
   "source": [
    "'''\n",
    "Write a Python program which accepts the radius of a circle from the user\n",
    "and compute the area.\n",
    "'''\n",
    "import math\n",
    "pI = math.pi\n",
    "radius = float(input(\"Enter Radius of Circle: \"))\n",
    "Area = pI * radius * radius\n",
    "print(\" Area of Circle is \" + str(Area))\n"
   ]
  },
  {
   "cell_type": "code",
   "execution_count": 2,
   "metadata": {},
   "outputs": [
    {
     "name": "stdout",
     "output_type": "stream",
     "text": [
      "Enter First Number : 30\n",
      "Enter Second Number : 20\n",
      "Addition 50\n"
     ]
    }
   ],
   "source": [
    "'''\n",
    "Write a python program which takes two inputs from user and print them addition\n",
    "'''\n",
    "first_num = int(input(\"Enter First Number : \"))\n",
    "sec_num   = int(input(\"Enter Second Number : \"))\n",
    "result = first_num + sec_num\n",
    "print(\"Addition \"+ str(result))"
   ]
  },
  {
   "cell_type": "code",
   "execution_count": null,
   "metadata": {},
   "outputs": [],
   "source": [
    "'''\n",
    "Write a Python program to print the following string in a specific format\n",
    "\n",
    "'''\n",
    "\n",
    "\n",
    "print('Twinkle, twinkle, little star, \\n\\t How I wonder what you are! \\n\\t\\t Up above the world so high, \\n\\t\\t Like a diamond in the sky. \\n Twinkle, twinkle, little star, \\n\\t How I wonder what you are')"
   ]
  },
  {
   "cell_type": "code",
   "execution_count": null,
   "metadata": {},
   "outputs": [],
   "source": [
    "'''\n",
    "Write a Python program which accepts the user's first and last name and\n",
    "print them in reverse order with a space between them.\n",
    "'''\n",
    "name = input('Enter First Name and Last Name:')\n",
    "fisrt_name, last_name = name.split(' ')\n",
    "\n",
    "print(last_name,first_name)"
   ]
  },
  {
   "cell_type": "code",
   "execution_count": null,
   "metadata": {},
   "outputs": [],
   "source": []
  }
 ],
 "metadata": {
  "kernelspec": {
   "display_name": "Python 3",
   "language": "python",
   "name": "python3"
  },
  "language_info": {
   "codemirror_mode": {
    "name": "ipython",
    "version": 3
   },
   "file_extension": ".py",
   "mimetype": "text/x-python",
   "name": "python",
   "nbconvert_exporter": "python",
   "pygments_lexer": "ipython3",
   "version": "3.7.4"
  }
 },
 "nbformat": 4,
 "nbformat_minor": 2
}
