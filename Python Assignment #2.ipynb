{
 "cells": [
  {
   "cell_type": "code",
   "execution_count": 1,
   "metadata": {},
   "outputs": [
    {
     "name": "stdout",
     "output_type": "stream",
     "text": [
      "Enter your obtained marks in 5 subjects: \n",
      "English = 89\n",
      "Maths = 90\n",
      "Computers = 89\n",
      "Urdu = 78\n",
      "GK = 90\n",
      "Congratulations! you got: 87.2\n"
     ]
    }
   ],
   "source": [
    "\n",
    "'''\n",
    "Write a program which takes 5 inputs from user for different subject’s\n",
    "marks, total it and generate mark sheet using grades ?\n",
    "'''\n",
    "print(\"Enter your obtained marks in 5 subjects: \")\n",
    "English = int(input(\"English = \"))\n",
    "Maths = int(input(\"Maths = \"))\n",
    "Computers = int(input(\"Computers = \"))\n",
    "Urdu = int(input(\"Urdu = \"))\n",
    "GK = int(input(\"GK = \"))\n",
    "add = English+Maths+Computers+Urdu+GK\n",
    "average = add/5\n",
    "\n",
    "if(average>=91 and average>=100):\n",
    "    print(\"Congratulations! you got: \"+str(average))\n",
    "elif(average>=81 and average>=91):\n",
    "    print(\"Congratulations! you got: \"+str(average))\n",
    "elif(average>=71 and average>=81):\n",
    "    print(\"Congratulations! you got: \"+str(average))\n",
    "elif(average>=61 and average>=71):\n",
    "    print(\"Congratulations! you got: \"+str(average))\n",
    "else:\n",
    "    print(\"You need to Improve \"+str(average))\n",
    "  "
   ]
  },
  {
   "cell_type": "code",
   "execution_count": 2,
   "metadata": {},
   "outputs": [
    {
     "name": "stdout",
     "output_type": "stream",
     "text": [
      "Enter Number , then I will tell you its odd or even number: 0\n",
      "Its Even\n"
     ]
    }
   ],
   "source": [
    "\n",
    "'''\n",
    "Write a program which take input from user and identify that the given\n",
    "number is even or odd?\n",
    "'''\n",
    "number = int(input(\"Enter Number , then I will tell you its odd or even number: \" ))\n",
    "check = number/2\n",
    "if(check%2 == 0):\n",
    "    print(\"Its Even\")\n",
    "else:\n",
    "    print(\"Its Odd\")"
   ]
  },
  {
   "cell_type": "code",
   "execution_count": 3,
   "metadata": {},
   "outputs": [
    {
     "name": "stdout",
     "output_type": "stream",
     "text": [
      "What are the 3 goals you like to acheive the in 2020? \n",
      "1. goal car\n",
      "2. goal travel\n",
      "3. goal valuable skills\n",
      "You are about to acheive these 3 Goals ----> these ['car', 'travel', 'valuable skills']\n"
     ]
    }
   ],
   "source": [
    "'''\n",
    "Write a program which print the length of the list?\n",
    "'''\n",
    "num = print(\"What are the 3 goals you like to acheive the in 2020? \")\n",
    "one    = input(\"1. goal \")\n",
    "two    = input(\"2. goal \")\n",
    "three  = input(\"3. goal \")\n",
    "goals =[one,two,three]\n",
    "print(\"You are about to acheive these \"+ str(len(goals)) + \" Goals in 2020 ----> these \" + str(goals))"
   ]
  },
  {
   "cell_type": "code",
   "execution_count": 4,
   "metadata": {},
   "outputs": [
    {
     "name": "stdout",
     "output_type": "stream",
     "text": [
      "21\n"
     ]
    }
   ],
   "source": [
    "'''\n",
    "Write a Python program to sum all the numeric items in a list?\n",
    "'''\n",
    "numbers = [1,2,3,4,5,6]\n",
    "\n",
    "    \n",
    "print(sum(numbers))"
   ]
  },
  {
   "cell_type": "code",
   "execution_count": 5,
   "metadata": {},
   "outputs": [
    {
     "name": "stdout",
     "output_type": "stream",
     "text": [
      "90\n"
     ]
    }
   ],
   "source": [
    "'''\n",
    "Write a Python program to get the largest number from a numeric list.\n",
    "'''\n",
    "myList = [7, 45,78,90,0]\n",
    "largest = myList[0]\n",
    "\n",
    "for i in myList[1:]:\n",
    "    if i > largest:\n",
    "        largest = i\n",
    "\n",
    "print(largest)"
   ]
  },
  {
   "cell_type": "code",
   "execution_count": 6,
   "metadata": {},
   "outputs": [
    {
     "name": "stdout",
     "output_type": "stream",
     "text": [
      "1 1 2 3 "
     ]
    }
   ],
   "source": [
    "'''\n",
    "Take a list, say for example this one:\n",
    "a = [1, 1, 2, 3, 5, 8, 13, 21, 34, 55, 89]\n",
    "and write a program that prints out all the elements of the list that are\n",
    "less than 5.\n",
    "'''\n",
    "a = [1, 1, 2, 3, 5, 8, 13, 21, 34, 55, 89]\n",
    "for i in range(len(a)):\n",
    "    if(a[i]<5):\n",
    "        print(a[i], end =\" \")"
   ]
  },
  {
   "cell_type": "code",
   "execution_count": null,
   "metadata": {},
   "outputs": [],
   "source": []
  }
 ],
 "metadata": {
  "kernelspec": {
   "display_name": "Python 3",
   "language": "python",
   "name": "python3"
  },
  "language_info": {
   "codemirror_mode": {
    "name": "ipython",
    "version": 3
   },
   "file_extension": ".py",
   "mimetype": "text/x-python",
   "name": "python",
   "nbconvert_exporter": "python",
   "pygments_lexer": "ipython3",
   "version": "3.7.4"
  }
 },
 "nbformat": 4,
 "nbformat_minor": 2
}
